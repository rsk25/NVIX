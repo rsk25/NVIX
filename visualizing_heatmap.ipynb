{
 "cells": [
  {
   "cell_type": "code",
   "execution_count": 1,
   "metadata": {},
   "outputs": [],
   "source": [
    "from model.swan import SWANPhase1Only\n",
    "from test_model import load_config\n",
    "from common.dataset import Dataset\n",
    "from learner import *\n",
    "from visualization.visualizer import *"
   ]
  },
  {
   "cell_type": "code",
   "execution_count": 2,
   "metadata": {},
   "outputs": [],
   "source": [
    "# 'Sears tower' problem\n",
    "SPLIT = 'dev'\n",
    "PROBLEM_IDX = 49\n",
    "BATCH_SIZE = 1"
   ]
  },
  {
   "cell_type": "code",
   "execution_count": null,
   "metadata": {},
   "outputs": [],
   "source": [
    "chpt_path = set_ckpt_path('best_SWAN_P1', from_pretrained=True)\n",
    "\n",
    "# load pretrained\n",
    "tokenizer = torch.load(chpt_path / 'tokenizer.pt') \n",
    "checkpoint = torch.load(chpt_path / 'SWANPhase1Only.pt')\n",
    "config = load_config(chpt_path)\n",
    "\n",
    "# set seed\n",
    "set_seed(config['seed'])\n",
    "\n",
    "# create model instance\n",
    "nvix = SWANPhase1Only.create_or_load(path=str(chpt_path), **config)\n",
    "nvix.explanation_pghead.debug = True\n",
    "nvix.eval()\n",
    "\n",
    "# load dataset\n",
    "dataset_path = set_ckpt_path('dataset', from_pretrained=False)\n",
    "test_data = Dataset(dataset_path / 'pen.json', number_window=3)\n",
    "#load experiment files\n",
    "experiment_path = set_ckpt_path('experiments', from_pretrained=False)\n",
    "test_data.select_items_with_file(experiment_path / 'pen' / SPLIT)\n",
    "\n",
    "# load (single) batch\n",
    "batch = test_data.get_minibatches(batch_size=BATCH_SIZE, for_testing= True)\n",
    "\n",
    "# get outputs from model\n",
    "output = nvix(\n",
    "    text=batch[PROBLEM_IDX].text.to(nvix.device),\n",
    "    beam=3,\n",
    "    beam_expl=1\n",
    ")\n",
    "\n",
    "explanations = output['explanation'][0].to_human_readable(tokenizer=tokenizer)\n",
    "\n",
    "display_heatmap(\n",
    "    sentence=batch[PROBLEM_IDX].text.raw[0].split(),\n",
    "    explanation=explanations,\n",
    "    attention=nvix.attention_scores,\n",
    "    copy_probs=nvix.copy_probabilities\n",
    ")"
   ]
  }
 ],
 "metadata": {
  "kernelspec": {
   "display_name": "Python 3 (ipykernel)",
   "language": "python",
   "name": "python3"
  },
  "orig_nbformat": 4
 },
 "nbformat": 4,
 "nbformat_minor": 2
}
